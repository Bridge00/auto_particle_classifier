{
 "cells": [
  {
   "cell_type": "code",
   "execution_count": 53,
   "metadata": {},
   "outputs": [],
   "source": [
    "import mrcfile\n",
    "import numpy as np"
   ]
  },
  {
   "cell_type": "code",
   "execution_count": 54,
   "metadata": {},
   "outputs": [
    {
     "name": "stdout",
     "output_type": "stream",
     "text": [
      "/Users/jeevantewari/Desktop/College/Cryo-Em/FinalProj\n"
     ]
    }
   ],
   "source": [
    "import os\n",
    "path = os.getcwd()\n",
    "print(path)"
   ]
  },
  {
   "cell_type": "code",
   "execution_count": 36,
   "metadata": {},
   "outputs": [
    {
     "name": "stdout",
     "output_type": "stream",
     "text": [
      "200\n"
     ]
    }
   ],
   "source": [
    "# https://www.ebi.ac.uk/pdbe/emdb/empiar/entry/10029/\n",
    "# each mrc file has length 200 and there are 50 micrographs\n",
    "# total number of particles avaliable = 10,000\n",
    "\n",
    "# opening the first mrc file\n",
    "with mrcfile.open(os.getcwd() + '/10029/data/mrcs/micrograph_001.mrcs') as mrc:\n",
    "    print(len(mrc.data[0][0]))\n",
    "    data = mrc.data"
   ]
  },
  {
   "cell_type": "code",
   "execution_count": 37,
   "metadata": {},
   "outputs": [
    {
     "name": "stdout",
     "output_type": "stream",
     "text": [
      "[9175.307  9437.364  9526.57   9225.428  8922.472  8706.796  8764.814\n",
      " 8801.775  9240.097  9344.004  9338.146  9449.778  9593.157  9205.12\n",
      " 8957.77   8822.088  8769.52   8887.754  8944.449  8983.742  9307.316\n",
      " 9164.491  9229.922  9286.9795 9273.836  9170.402  8909.128  8686.29\n",
      " 8565.33   8718.983  8990.677  9150.344  9213.584  9244.078  8850.027\n",
      " 8781.719  9171.384  9398.082  9082.857  8996.913  8881.602  8976.421\n",
      " 9237.2295 9435.319  9304.59   9200.37   9235.517  9132.681  9526.626\n",
      " 9596.903  9337.911  9076.629  8882.78   8899.8955 9198.229  8967.372\n",
      " 8699.198  8925.093  9235.695  9231.619  9036.429  8775.398  8824.788\n",
      " 9143.942  9076.883  8825.0205 8638.944  8658.122  8634.129  9025.9\n",
      " 8914.361  8661.063  9000.322  9038.425  8918.835  8902.835  8958.938\n",
      " 8742.167  8667.555  8959.026  9119.649  8971.042  8931.241  8782.972\n",
      " 8862.731  8799.24   8629.668  8610.063  8675.6    8722.19   8875.457\n",
      " 9192.795  9133.218  9220.362  9187.464  9150.777  9347.33   9542.4795\n",
      " 9301.919  8941.357  8905.224  9028.809  9269.008  9278.329  9206.377\n",
      " 9216.158  9194.592  9265.896  9402.931  9336.063  9332.538  9312.027\n",
      " 9188.252  9093.54   8884.743  8703.433  8877.112  8813.722  8841.982\n",
      " 8679.53   8539.39   8662.7295 8836.473  8987.412  8977.732  9065.156\n",
      " 8889.565  8797.667  8811.702  8943.933  9085.614  9388.543  9169.8\n",
      " 9006.754  8847.658  8706.894  8775.905  8633.505  8687.641  8860.411\n",
      " 9164.172  9146.307  9151.284  8974.873  8904.145  8938.48   9241.335\n",
      " 9293.269  9520.955  9463.891  9455.085  9293.146  9041.652  9112.412\n",
      " 9453.416  9337.815  9117.114  8836.686  8725.037  8920.29   8971.337\n",
      " 9020.545  8998.605  9114.828  9239.516  8936.267  8951.274  9076.765\n",
      " 9190.087  9381.154  9303.29   8909.049  8543.203  8682.172  8755.083\n",
      " 8804.338  8960.825  9003.775  9040.763  9157.831  9583.535  9304.964\n",
      " 9106.784  9070.69   9025.644  9192.8955 8895.392  8656.085  8768.59\n",
      " 8966.663  9042.864  9008.497  8909.091  8755.349  8742.667  8955.129\n",
      " 8964.033  9028.097  9114.691  9182.678 ]\n"
     ]
    }
   ],
   "source": [
    "print((data[0][0])) "
   ]
  },
  {
   "cell_type": "code",
   "execution_count": 55,
   "metadata": {},
   "outputs": [
    {
     "name": "stdout",
     "output_type": "stream",
     "text": [
      "2102\n"
     ]
    }
   ],
   "source": [
    "with mrcfile.open(os.getcwd() + '/apo_stack.mrc') as mrc:\n",
    "    print(len(mrc.data))\n",
    "    data = mrc.data\n",
    "    \n",
    "# 2102 entries of 192 * 192 images (each is one particle)"
   ]
  },
  {
   "cell_type": "code",
   "execution_count": 56,
   "metadata": {},
   "outputs": [
    {
     "name": "stdout",
     "output_type": "stream",
     "text": [
      "192 192\n"
     ]
    }
   ],
   "source": [
    "print(len(data[0]), len(data[0][0]))"
   ]
  },
  {
   "cell_type": "markdown",
   "metadata": {},
   "source": [
    "__Below we open the class files obtained from cistem with examples of good particles and bad particles__"
   ]
  },
  {
   "cell_type": "code",
   "execution_count": 60,
   "metadata": {},
   "outputs": [
    {
     "name": "stdout",
     "output_type": "stream",
     "text": [
      "2055\n"
     ]
    }
   ],
   "source": [
    "with mrcfile.open(os.getcwd() + '/good_classes_stack.mrc') as mrc:\n",
    "    print(len(mrc.data))\n",
    "    good_classes = mrc.data"
   ]
  },
  {
   "cell_type": "code",
   "execution_count": 62,
   "metadata": {},
   "outputs": [
    {
     "name": "stdout",
     "output_type": "stream",
     "text": [
      "192 192\n"
     ]
    }
   ],
   "source": [
    "print(len(good_classes[0]), len(good_classes[0][0]))"
   ]
  },
  {
   "cell_type": "code",
   "execution_count": 63,
   "metadata": {},
   "outputs": [
    {
     "name": "stdout",
     "output_type": "stream",
     "text": [
      "47\n"
     ]
    }
   ],
   "source": [
    "with mrcfile.open(os.getcwd() + '/bad_classes_stack.mrc') as mrc:\n",
    "    print(len(mrc.data))\n",
    "    bad_classes = mrc.data"
   ]
  },
  {
   "cell_type": "code",
   "execution_count": null,
   "metadata": {},
   "outputs": [],
   "source": []
  }
 ],
 "metadata": {
  "kernelspec": {
   "display_name": "Python 3",
   "language": "python",
   "name": "python3"
  },
  "language_info": {
   "codemirror_mode": {
    "name": "ipython",
    "version": 3
   },
   "file_extension": ".py",
   "mimetype": "text/x-python",
   "name": "python",
   "nbconvert_exporter": "python",
   "pygments_lexer": "ipython3",
   "version": "3.8.3"
  }
 },
 "nbformat": 4,
 "nbformat_minor": 4
}
